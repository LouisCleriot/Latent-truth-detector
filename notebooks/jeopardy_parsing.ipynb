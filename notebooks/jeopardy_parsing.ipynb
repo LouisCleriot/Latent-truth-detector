{
 "cells": [
  {
   "cell_type": "code",
   "execution_count": null,
   "metadata": {},
   "outputs": [],
   "source": [
    "import pandas as pd\n",
    "\n",
    "#load the data\n",
    "with open('../data/true/false_geopardie.txt') as f:\n",
    "    lines = f.read()\n",
    "    \n",
    "lines = lines.split('\\n\\n')\n",
    "lines = lines[0:40]"
   ]
  },
  {
   "cell_type": "code",
   "execution_count": null,
   "metadata": {},
   "outputs": [],
   "source": [
    "#parse data\n",
    "df = pd.DataFrame([x.split('\\n') for x in lines], columns=['Q','R','T','F1','F2'])\n",
    "df['Q'] = df['Q'].str[4:].str[:-2]\n",
    "df['R'] = df['R'].str[3:]\n",
    "df['T'] = df['T'].str[3:]\n",
    "df['F1'] = df['F1'].str[4:]\n",
    "df['F2'] = df['F2'].str[4:]"
   ]
  },
  {
   "cell_type": "code",
   "execution_count": null,
   "metadata": {},
   "outputs": [],
   "source": [
    "#save data\n",
    "df.to_csv('../data/complex/geopardie.csv', index=False)"
   ]
  },
  {
   "cell_type": "code",
   "execution_count": null,
   "metadata": {},
   "outputs": [],
   "source": [
    "#load model to generate activations\n",
    "from transformers import AutoTokenizer, AutoModelForCausalLM\n",
    "import torch\n",
    "tokenizer = AutoTokenizer.from_pretrained(\"Qwen/Qwen1.5-0.5B\")\n",
    "model = AutoModelForCausalLM.from_pretrained(\"Qwen/Qwen1.5-0.5B\")\n",
    "%load_ext autoreload\n",
    "%autoreload 2\n",
    "\n",
    "import os\n",
    "import torch\n",
    "device = 'cuda' if torch.cuda.is_available() else 'cpu'\n",
    "print('Device: {} '.format(device))"
   ]
  },
  {
   "cell_type": "code",
   "execution_count": null,
   "metadata": {},
   "outputs": [],
   "source": [
    "from tqdm import tqdm\n",
    "\n",
    "nb_neurons_per_layer = model.model.layers[5].self_attn.k_proj.in_features\n",
    "nb_layer = model.model.layers.__len__()\n",
    "\n",
    "activations = {}\n",
    "#list the layer you want to extract the activations from\n",
    "#layers_num = [i for i in range(0,nb_layer)]\n",
    "layers_num = [0,7,10,12,15,22]\n",
    "hooks = []\n",
    "model_name = \"Qwen1.5-0.5B\"\n",
    "\n",
    "class StopForwarding(Exception):\n",
    "    pass\n",
    "\n",
    "#hook to capture the output of the layers\n",
    "def capture_output(module, input, output, layer_num):\n",
    "    output = output[0].detach()\n",
    "    activations[f'layer_{layer_num}_output'] = output[:,-1,:]\n",
    "    if layer_num == layers_num[-1]:\n",
    "        raise StopForwarding\n",
    "\n",
    "#register the hook to the layers\n",
    "for layer_num in layers_num:\n",
    "    hooks.append(model.model.layers[layer_num].register_forward_hook(lambda module, input, output, layer_num=layer_num: capture_output(module, input, output, layer_num)))\n",
    "\n",
    "raw_data = pd.read_csv(f\"../data/complex/geopardie.csv\")\n",
    "\n",
    "#process the data\n",
    "pbar = tqdm(total=raw_data.shape[0], desc=f\"Processing lines of geopardie\", unit=\"line\")\n",
    "pbar.update(0)\n",
    "for i in range(0,raw_data.shape[0]) :\n",
    "    #for each statement\n",
    "    for col in ['T','F1','F2']:\n",
    "        try : \n",
    "            #get the statement and the label\n",
    "            statement = raw_data.iloc[i][col]\n",
    "            label = col[0]\n",
    "            #tokenize the statement and get the mask\n",
    "            input_token = tokenizer.encode_plus(statement, return_tensors=\"pt\")\n",
    "            input_ids = input_token[\"input_ids\"].to(device)\n",
    "            mask = input_token[\"attention_mask\"].to(device)\n",
    "            #forward the statement through the model\n",
    "            with torch.no_grad():\n",
    "                output = model(input_ids=input_ids, attention_mask=mask)\n",
    "                \n",
    "        except StopForwarding:\n",
    "            #save the activations\n",
    "            for layer_num in layers_num:\n",
    "                layer_output = activations[f'layer_{layer_num}_output']\n",
    "                layer_output = layer_output.cpu().numpy()\n",
    "                start_neuron = nb_neurons_per_layer * layer_num +1\n",
    "                end_neuron = start_neuron + nb_neurons_per_layer\n",
    "                layer_output = pd.DataFrame(layer_output, columns=[f'neuron_{i}' for i in range(start_neuron, end_neuron)])\n",
    "                layer_output[\"label\"] = label\n",
    "                header = i == 0\n",
    "                layer_output.to_csv(f\"../activations/complex/geopardie/layer_{layer_num}_output.csv\", mode='a', index=False, header=header)\n",
    "    \n",
    "    pbar.update(1)\n",
    "pbar.close()\n",
    "#remove the hooks to avoid memory leaks\n",
    "for hook in hooks:\n",
    "    hook.remove()"
   ]
  },
  {
   "cell_type": "code",
   "execution_count": 46,
   "metadata": {},
   "outputs": [
    {
     "data": {
      "text/plain": [
       "(122, 1025)"
      ]
     },
     "execution_count": 46,
     "metadata": {},
     "output_type": "execute_result"
    }
   ],
   "source": [
    "num=22\n",
    "#load csv \n",
    "geopardie = pd.read_csv(f'../activations/complex/geopardie/layer_{num}_output.csv')\n",
    "geopardie.shape"
   ]
  },
  {
   "cell_type": "code",
   "execution_count": 47,
   "metadata": {},
   "outputs": [],
   "source": [
    "#delete row 1 and 3 \n",
    "geopardie = geopardie.drop([1,3])"
   ]
  },
  {
   "cell_type": "code",
   "execution_count": 48,
   "metadata": {},
   "outputs": [],
   "source": [
    "#save the data\n",
    "geopardie.to_csv(f'../activations/complex/geopardie/layer_{num}_output.csv', index=False)"
   ]
  }
 ],
 "metadata": {
  "kernelspec": {
   "display_name": ".venv",
   "language": "python",
   "name": "python3"
  },
  "language_info": {
   "codemirror_mode": {
    "name": "ipython",
    "version": 3
   },
   "file_extension": ".py",
   "mimetype": "text/x-python",
   "name": "python",
   "nbconvert_exporter": "python",
   "pygments_lexer": "ipython3",
   "version": "3.10.12"
  }
 },
 "nbformat": 4,
 "nbformat_minor": 2
}
