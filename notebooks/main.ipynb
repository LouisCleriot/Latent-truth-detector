{
 "cells": [
  {
   "cell_type": "code",
   "execution_count": 1,
   "metadata": {},
   "outputs": [
    {
     "name": "stderr",
     "output_type": "stream",
     "text": [
      "/home/coralie/canada/Latent-truth-detector/.venv/lib/python3.10/site-packages/tqdm/auto.py:21: TqdmWarning: IProgress not found. Please update jupyter and ipywidgets. See https://ipywidgets.readthedocs.io/en/stable/user_install.html\n",
      "  from .autonotebook import tqdm as notebook_tqdm\n",
      "`low_cpu_mem_usage` was None, now set to True since model is quantized.\n"
     ]
    }
   ],
   "source": [
    "from transformers import AutoTokenizer, AutoModelForCausalLM\n",
    "import torch\n",
    "tokenizer = AutoTokenizer.from_pretrained(\"ISTA-DASLab/Llama-2-7b-AQLM-2Bit-2x8-hf\")\n",
    "model = AutoModelForCausalLM.from_pretrained(\"ISTA-DASLab/Llama-2-7b-AQLM-2Bit-2x8-hf\")\n",
    "%load_ext autoreload\n",
    "%autoreload 2"
   ]
  },
  {
   "cell_type": "code",
   "execution_count": 2,
   "metadata": {},
   "outputs": [
    {
     "name": "stdout",
     "output_type": "stream",
     "text": [
      "Device: cuda \n"
     ]
    }
   ],
   "source": [
    "import os\n",
    "import torch\n",
    "device = 'cuda' if torch.cuda.is_available() else 'cpu'\n",
    "print('Device: {} '.format(device))\n"
   ]
  },
  {
   "cell_type": "code",
   "execution_count": 3,
   "metadata": {},
   "outputs": [
    {
     "data": {
      "text/plain": [
       "LlamaForCausalLM(\n",
       "  (model): LlamaModel(\n",
       "    (embed_tokens): Embedding(32000, 4096)\n",
       "    (layers): ModuleList(\n",
       "      (0-31): 32 x LlamaDecoderLayer(\n",
       "        (self_attn): LlamaSdpaAttention(\n",
       "          (q_proj): QuantizedLinear()\n",
       "          (k_proj): QuantizedLinear()\n",
       "          (v_proj): QuantizedLinear()\n",
       "          (o_proj): QuantizedLinear()\n",
       "          (rotary_emb): LlamaRotaryEmbedding()\n",
       "        )\n",
       "        (mlp): LlamaMLP(\n",
       "          (gate_proj): QuantizedLinear()\n",
       "          (up_proj): QuantizedLinear()\n",
       "          (down_proj): QuantizedLinear()\n",
       "          (act_fn): SiLU()\n",
       "        )\n",
       "        (input_layernorm): LlamaRMSNorm()\n",
       "        (post_attention_layernorm): LlamaRMSNorm()\n",
       "      )\n",
       "    )\n",
       "    (norm): LlamaRMSNorm()\n",
       "  )\n",
       "  (lm_head): Linear(in_features=4096, out_features=32000, bias=False)\n",
       ")"
      ]
     },
     "execution_count": 3,
     "metadata": {},
     "output_type": "execute_result"
    }
   ],
   "source": [
    "model.to(device)"
   ]
  },
  {
   "cell_type": "markdown",
   "metadata": {},
   "source": [
    "- dimension 0 : taille du batch\n",
    "- dimension 1 : taille de la séquence\n",
    "- dimension 2 : taille de la représentation\n",
    "\n",
    "On aura donc des tailles variables de sortie en fonction de la taille de la séquence d'entrée. \n",
    "\n",
    "Comment faire pour l'utiliser pour la classification ?\n",
    "\n",
    "- utiliser le token `[CLS]` (modéle basé sur bert) qui est le premier token de la séquence (espece de représentation de la séquence entière) nous on est sur sententpiece `<s>` pas le meme role mais peut etre qu'on peut l'utiliser de la meme facon\n",
    "- average pooling : moyenne des représentations des tokens de la séquence\n",
    "- max pooling : max des représentations des tokens de la séquence\n",
    "- system d'attention : on va donner un poids à chaque token de la séquence et on va faire une somme pondérée des représentations des tokens"
   ]
  },
  {
   "cell_type": "markdown",
   "metadata": {},
   "source": [
    "## Creating the dataset of weights"
   ]
  },
  {
   "cell_type": "code",
   "execution_count": 4,
   "metadata": {},
   "outputs": [
    {
     "name": "stdout",
     "output_type": "stream",
     "text": [
      "Nombre de lignes:  1496\n"
     ]
    },
    {
     "data": {
      "text/html": [
       "<div>\n",
       "<style scoped>\n",
       "    .dataframe tbody tr th:only-of-type {\n",
       "        vertical-align: middle;\n",
       "    }\n",
       "\n",
       "    .dataframe tbody tr th {\n",
       "        vertical-align: top;\n",
       "    }\n",
       "\n",
       "    .dataframe thead th {\n",
       "        text-align: right;\n",
       "    }\n",
       "</style>\n",
       "<table border=\"1\" class=\"dataframe\">\n",
       "  <thead>\n",
       "    <tr style=\"text-align: right;\">\n",
       "      <th></th>\n",
       "      <th>statement</th>\n",
       "      <th>label</th>\n",
       "      <th>city</th>\n",
       "      <th>country</th>\n",
       "      <th>correct_country</th>\n",
       "    </tr>\n",
       "  </thead>\n",
       "  <tbody>\n",
       "    <tr>\n",
       "      <th>0</th>\n",
       "      <td>The city of Aden is in Japan.</td>\n",
       "      <td>0</td>\n",
       "      <td>Aden</td>\n",
       "      <td>Japan</td>\n",
       "      <td>Yemen</td>\n",
       "    </tr>\n",
       "    <tr>\n",
       "      <th>1</th>\n",
       "      <td>The city of Mianzhu, Deyang, Sichuan is in China.</td>\n",
       "      <td>1</td>\n",
       "      <td>Mianzhu, Deyang, Sichuan</td>\n",
       "      <td>China</td>\n",
       "      <td>China</td>\n",
       "    </tr>\n",
       "    <tr>\n",
       "      <th>2</th>\n",
       "      <td>The city of Jaipur is in India.</td>\n",
       "      <td>1</td>\n",
       "      <td>Jaipur</td>\n",
       "      <td>India</td>\n",
       "      <td>India</td>\n",
       "    </tr>\n",
       "    <tr>\n",
       "      <th>3</th>\n",
       "      <td>The city of Meerut is in India.</td>\n",
       "      <td>1</td>\n",
       "      <td>Meerut</td>\n",
       "      <td>India</td>\n",
       "      <td>India</td>\n",
       "    </tr>\n",
       "    <tr>\n",
       "      <th>4</th>\n",
       "      <td>The city of Antwerpen is in Japan.</td>\n",
       "      <td>0</td>\n",
       "      <td>Antwerpen</td>\n",
       "      <td>Japan</td>\n",
       "      <td>Belgium</td>\n",
       "    </tr>\n",
       "  </tbody>\n",
       "</table>\n",
       "</div>"
      ],
      "text/plain": [
       "                                           statement  label  \\\n",
       "0                      The city of Aden is in Japan.      0   \n",
       "1  The city of Mianzhu, Deyang, Sichuan is in China.      1   \n",
       "2                    The city of Jaipur is in India.      1   \n",
       "3                    The city of Meerut is in India.      1   \n",
       "4                 The city of Antwerpen is in Japan.      0   \n",
       "\n",
       "                       city country correct_country  \n",
       "0                      Aden   Japan           Yemen  \n",
       "1  Mianzhu, Deyang, Sichuan   China           China  \n",
       "2                    Jaipur   India           India  \n",
       "3                    Meerut   India           India  \n",
       "4                 Antwerpen   Japan         Belgium  "
      ]
     },
     "execution_count": 4,
     "metadata": {},
     "output_type": "execute_result"
    }
   ],
   "source": [
    "import pandas as pd\n",
    "raw_data = pd.read_csv(\"data/true-false-datasets/curated/cities.csv\")\n",
    "# Shuffle data\n",
    "raw_data = raw_data.sample(frac=1).reset_index(drop=True)\n",
    "\n",
    "print(\"Nombre de lignes: \", raw_data.shape[0])\n",
    "raw_data.head() "
   ]
  },
  {
   "cell_type": "markdown",
   "metadata": {},
   "source": [
    "We keep only the statement and its label. We will use the statement to create the weights."
   ]
  },
  {
   "cell_type": "code",
   "execution_count": 37,
   "metadata": {},
   "outputs": [
    {
     "name": "stdout",
     "output_type": "stream",
     "text": [
      "Line 0 done\n",
      "Line 1 done\n",
      "Line 2 done\n",
      "Line 3 done\n",
      "Line 4 done\n",
      "Line 5 done\n",
      "Line 6 done\n",
      "Line 7 done\n",
      "Line 8 done\n",
      "Line 9 done\n",
      "Line 10 done\n",
      "Line 11 done\n",
      "Line 12 done\n",
      "Line 13 done\n",
      "Line 14 done\n",
      "Line 15 done\n",
      "Line 16 done\n",
      "Line 17 done\n",
      "Line 18 done\n",
      "Line 19 done\n",
      "Line 20 done\n",
      "Line 21 done\n",
      "Line 22 done\n",
      "Line 23 done\n",
      "Line 24 done\n",
      "Line 25 done\n",
      "Line 26 done\n",
      "Line 27 done\n",
      "Line 28 done\n",
      "Line 29 done\n",
      "Line 30 done\n",
      "Line 31 done\n",
      "Line 32 done\n",
      "Line 33 done\n",
      "Line 34 done\n",
      "Line 35 done\n",
      "Line 36 done\n",
      "Line 37 done\n",
      "Line 38 done\n",
      "Line 39 done\n",
      "Line 40 done\n",
      "Line 41 done\n",
      "Line 42 done\n",
      "Line 43 done\n",
      "Line 44 done\n",
      "Line 45 done\n",
      "Line 46 done\n",
      "Line 47 done\n",
      "Line 48 done\n",
      "Line 49 done\n",
      "Line 50 done\n",
      "Line 51 done\n",
      "Line 52 done\n",
      "Line 53 done\n",
      "Line 54 done\n",
      "Line 55 done\n",
      "Line 56 done\n",
      "Line 57 done\n",
      "Line 58 done\n",
      "Line 59 done\n",
      "Line 60 done\n",
      "Line 61 done\n",
      "Line 62 done\n",
      "Line 63 done\n",
      "Line 64 done\n"
     ]
    },
    {
     "ename": "KeyboardInterrupt",
     "evalue": "",
     "output_type": "error",
     "traceback": [
      "\u001b[0;31m---------------------------------------------------------------------------\u001b[0m",
      "\u001b[0;31mKeyboardInterrupt\u001b[0m                         Traceback (most recent call last)",
      "Cell \u001b[0;32mIn[37], line 21\u001b[0m\n\u001b[1;32m     18\u001b[0m     output \u001b[38;5;241m=\u001b[39m model(input_ids\u001b[38;5;241m=\u001b[39minput_ids, attention_mask\u001b[38;5;241m=\u001b[39mmask)\n\u001b[1;32m     20\u001b[0m layer_13_output \u001b[38;5;241m=\u001b[39m activations[\u001b[38;5;124m'\u001b[39m\u001b[38;5;124mlayer_13_output\u001b[39m\u001b[38;5;124m'\u001b[39m]\u001b[38;5;241m.\u001b[39msqueeze(\u001b[38;5;241m0\u001b[39m)\n\u001b[0;32m---> 21\u001b[0m layer_13_output \u001b[38;5;241m=\u001b[39m layer_13_output \u001b[38;5;241m=\u001b[39m \u001b[43mlayer_13_output\u001b[49m\u001b[38;5;241;43m.\u001b[39;49m\u001b[43mcpu\u001b[49m\u001b[43m(\u001b[49m\u001b[43m)\u001b[49m\u001b[38;5;241m.\u001b[39mnumpy() \u001b[38;5;66;03m# transfer to cpu and convert to numpy array\u001b[39;00m\n\u001b[1;32m     22\u001b[0m layer_13_output \u001b[38;5;241m=\u001b[39m pd\u001b[38;5;241m.\u001b[39mDataFrame(layer_13_output)\n\u001b[1;32m     23\u001b[0m layer_13_output[\u001b[38;5;124m\"\u001b[39m\u001b[38;5;124mlabel\u001b[39m\u001b[38;5;124m\"\u001b[39m] \u001b[38;5;241m=\u001b[39m label\n",
      "\u001b[0;31mKeyboardInterrupt\u001b[0m: "
     ]
    }
   ],
   "source": [
    "activations = {}\n",
    "\n",
    "\n",
    "def capture_output(module, input, output):\n",
    "    activations['layer_13_output'] = output[0].detach()\n",
    "    \n",
    "\n",
    "for i in range(0,raw_data.shape[0]) :\n",
    "    hook = model.model.layers[13].register_forward_hook(capture_output)\n",
    "    statement = raw_data.iloc[i,0]\n",
    "    label = raw_data.iloc[i,1]\n",
    "    \n",
    "    input_token = tokenizer.encode_plus(statement, return_tensors=\"pt\")\n",
    "    input_ids = input_token[\"input_ids\"].to(device)\n",
    "    mask = input_token[\"attention_mask\"].to(device)\n",
    "    \n",
    "    with torch.no_grad():\n",
    "        output = model(input_ids=input_ids, attention_mask=mask)\n",
    "\n",
    "    layer_13_output = activations['layer_13_output'].squeeze(0)\n",
    "    layer_13_output = layer_13_output = layer_13_output.cpu().numpy() # transfer to cpu and convert to numpy array\n",
    "    layer_13_output = pd.DataFrame(layer_13_output)\n",
    "    layer_13_output[\"label\"] = label\n",
    "    layer_13_output[\"object_number\"]=i\n",
    "    hook.remove()\n",
    "    \n",
    "    layer_13_output.to_csv(\"data/layer_13_output.csv\", mode='a', header=False, index=False)\n",
    "    print(f\"Line {i} done\")\n",
    "hook.remove()\n",
    "    "
   ]
  },
  {
   "cell_type": "code",
   "execution_count": 38,
   "metadata": {},
   "outputs": [],
   "source": [
    "hook.remove()"
   ]
  },
  {
   "cell_type": "markdown",
   "metadata": {},
   "source": [
    "## Load the csv of the weights"
   ]
  },
  {
   "cell_type": "code",
   "execution_count": 85,
   "metadata": {},
   "outputs": [],
   "source": [
    "df_ = pd.read_csv(\"data/layer_13_output.csv\", header=None)"
   ]
  },
  {
   "cell_type": "code",
   "execution_count": 86,
   "metadata": {},
   "outputs": [
    {
     "data": {
      "text/plain": [
       "(761, 4098)"
      ]
     },
     "execution_count": 86,
     "metadata": {},
     "output_type": "execute_result"
    }
   ],
   "source": [
    "df_.shape"
   ]
  },
  {
   "cell_type": "code",
   "execution_count": 87,
   "metadata": {},
   "outputs": [],
   "source": [
    "#calculate mean of each column group by the last column\n",
    "df = df_.groupby(df_.columns[-1]).mean().reset_index()\n",
    "#drop duplicates in the last column and keep the last one\n",
    "#df = df_.drop_duplicates(subset=df_.columns[-1], keep=\"last\").reset_index(drop=True)\n"
   ]
  },
  {
   "cell_type": "code",
   "execution_count": 88,
   "metadata": {},
   "outputs": [],
   "source": [
    "features = df[df.columns[:-1]]\n",
    "labels = df[df.columns[-1]]"
   ]
  },
  {
   "cell_type": "code",
   "execution_count": 89,
   "metadata": {},
   "outputs": [
    {
     "data": {
      "text/plain": [
       "((65, 4097), (65,))"
      ]
     },
     "execution_count": 89,
     "metadata": {},
     "output_type": "execute_result"
    }
   ],
   "source": [
    "features.shape, labels.shape"
   ]
  },
  {
   "cell_type": "code",
   "execution_count": 90,
   "metadata": {},
   "outputs": [],
   "source": [
    "from sklearn.decomposition import PCA\n",
    "pca = PCA(n_components=2)\n",
    "pca_result = pca.fit_transform(features)"
   ]
  },
  {
   "cell_type": "code",
   "execution_count": 91,
   "metadata": {},
   "outputs": [],
   "source": [
    "#concatenate df[df.columns[-1]] and pca_result\n",
    "pca_result = pd.DataFrame(pca_result, columns=[\"pca1\", \"pca2\"])\n",
    "pca_result[\"label\"] = labels"
   ]
  },
  {
   "cell_type": "code",
   "execution_count": 92,
   "metadata": {},
   "outputs": [
    {
     "data": {
      "text/plain": [
       "(65, 3)"
      ]
     },
     "execution_count": 92,
     "metadata": {},
     "output_type": "execute_result"
    }
   ],
   "source": [
    "pca_result.shape"
   ]
  },
  {
   "cell_type": "code",
   "execution_count": 93,
   "metadata": {},
   "outputs": [
    {
     "data": {
      "text/html": [
       "<div>\n",
       "<style scoped>\n",
       "    .dataframe tbody tr th:only-of-type {\n",
       "        vertical-align: middle;\n",
       "    }\n",
       "\n",
       "    .dataframe tbody tr th {\n",
       "        vertical-align: top;\n",
       "    }\n",
       "\n",
       "    .dataframe thead th {\n",
       "        text-align: right;\n",
       "    }\n",
       "</style>\n",
       "<table border=\"1\" class=\"dataframe\">\n",
       "  <thead>\n",
       "    <tr style=\"text-align: right;\">\n",
       "      <th></th>\n",
       "      <th>pca1</th>\n",
       "      <th>pca2</th>\n",
       "      <th>label</th>\n",
       "    </tr>\n",
       "  </thead>\n",
       "  <tbody>\n",
       "    <tr>\n",
       "      <th>0</th>\n",
       "      <td>-47.770369</td>\n",
       "      <td>32.480183</td>\n",
       "      <td>0.0</td>\n",
       "    </tr>\n",
       "    <tr>\n",
       "      <th>1</th>\n",
       "      <td>129.721834</td>\n",
       "      <td>29.710625</td>\n",
       "      <td>1.0</td>\n",
       "    </tr>\n",
       "    <tr>\n",
       "      <th>2</th>\n",
       "      <td>-14.500168</td>\n",
       "      <td>30.150969</td>\n",
       "      <td>1.0</td>\n",
       "    </tr>\n",
       "    <tr>\n",
       "      <th>3</th>\n",
       "      <td>-14.391329</td>\n",
       "      <td>29.153249</td>\n",
       "      <td>1.0</td>\n",
       "    </tr>\n",
       "    <tr>\n",
       "      <th>4</th>\n",
       "      <td>-14.626698</td>\n",
       "      <td>28.151376</td>\n",
       "      <td>0.0</td>\n",
       "    </tr>\n",
       "  </tbody>\n",
       "</table>\n",
       "</div>"
      ],
      "text/plain": [
       "         pca1       pca2  label\n",
       "0  -47.770369  32.480183    0.0\n",
       "1  129.721834  29.710625    1.0\n",
       "2  -14.500168  30.150969    1.0\n",
       "3  -14.391329  29.153249    1.0\n",
       "4  -14.626698  28.151376    0.0"
      ]
     },
     "execution_count": 93,
     "metadata": {},
     "output_type": "execute_result"
    }
   ],
   "source": [
    "pca_result.head()"
   ]
  },
  {
   "cell_type": "code",
   "execution_count": 94,
   "metadata": {},
   "outputs": [
    {
     "data": {
      "text/plain": [
       "<Axes: xlabel='pca1', ylabel='pca2'>"
      ]
     },
     "execution_count": 94,
     "metadata": {},
     "output_type": "execute_result"
    },
    {
     "data": {
      "image/png": "[encoded data removed]",
      "text/plain": [
       "<Figure size 640x480 with 1 Axes>"
      ]
     },
     "metadata": {},
     "output_type": "display_data"
    }
   ],
   "source": [
    "#plot the pca_result with the label as color\n",
    "import seaborn as sns\n",
    "import matplotlib.pyplot as plt\n",
    "plt.figure()\n",
    "sns.scatterplot(\n",
    "    x=\"pca1\", y=\"pca2\",\n",
    "    hue=\"label\",\n",
    "    palette=sns.color_palette(\"deep\", 2),\n",
    "    data=pca_result,\n",
    "    legend=\"full\",\n",
    ")\n"
   ]
  }
 ],
 "metadata": {
  "kernelspec": {
   "display_name": ".venv",
   "language": "python",
   "name": "python3"
  },
  "language_info": {
   "codemirror_mode": {
    "name": "ipython",
    "version": 3
   },
   "file_extension": ".py",
   "mimetype": "text/x-python",
   "name": "python",
   "nbconvert_exporter": "python",
   "pygments_lexer": "ipython3",
   "version": "3.10.12"
  }
 },
 "nbformat": 4,
 "nbformat_minor": 2
}
