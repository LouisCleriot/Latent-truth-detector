{
 "cells": [
  {
   "cell_type": "code",
   "execution_count": 1,
   "metadata": {},
   "outputs": [
    {
     "name": "stderr",
     "output_type": "stream",
     "text": [
      "/home/louzix/Documents/project/Latent-truth-detector/.venv/lib/python3.10/site-packages/tqdm/auto.py:21: TqdmWarning: IProgress not found. Please update jupyter and ipywidgets. See https://ipywidgets.readthedocs.io/en/stable/user_install.html\n",
      "  from .autonotebook import tqdm as notebook_tqdm\n",
      "Special tokens have been added in the vocabulary, make sure the associated word embeddings are fine-tuned or trained.\n"
     ]
    },
    {
     "name": "stdout",
     "output_type": "stream",
     "text": [
      "Device: cpu \n"
     ]
    }
   ],
   "source": [
    "from transformers import AutoTokenizer, AutoModelForCausalLM\n",
    "import torch\n",
    "tokenizer = AutoTokenizer.from_pretrained(\"Qwen/Qwen1.5-0.5B-Chat\")\n",
    "model = AutoModelForCausalLM.from_pretrained(\"Qwen/Qwen1.5-0.5B-Chat\")\n",
    "%load_ext autoreload\n",
    "%autoreload 2\n",
    "\n",
    "import os\n",
    "import torch\n",
    "device = 'cuda' if torch.cuda.is_available() else 'cpu'\n",
    "print('Device: {} '.format(device))"
   ]
  },
  {
   "cell_type": "code",
   "execution_count": 2,
   "metadata": {},
   "outputs": [],
   "source": [
    "from transformers import set_seed\n",
    "set_seed(42)"
   ]
  },
  {
   "cell_type": "code",
   "execution_count": 48,
   "metadata": {},
   "outputs": [],
   "source": [
    "prompt = \"the city of Marseille is in France\" \n",
    "\n",
    "prompt2 = \"the city of Marseille is in Russia\"\n",
    "message = [\n",
    "    {\"role\": \"system\", \"content\": \"You are a helpful assistant and will only answer with False or True.\"},\n",
    "    {\"role\": \"user\", \"content\": prompt2}\n",
    "]"
   ]
  },
  {
   "cell_type": "code",
   "execution_count": 51,
   "metadata": {},
   "outputs": [
    {
     "name": "stdout",
     "output_type": "stream",
     "text": [
      "False. Marseille, also known as Marseille Bay, is located in France, not Russia. It is\n"
     ]
    }
   ],
   "source": [
    "text = tokenizer.apply_chat_template(\n",
    "    message,\n",
    "    tokenize=False,\n",
    "    add_generation_prompt=True\n",
    ")\n",
    "model_inputs = tokenizer([text], return_tensors=\"pt\").to(device)\n",
    "generated_ids = model.generate(\n",
    "    model_inputs.input_ids,\n",
    "    max_new_tokens=20,\n",
    "    do_sample=False,\n",
    "    top_p=1.0,\n",
    ")\n",
    "generated_ids = [\n",
    "    output_ids[len(input_ids):] for input_ids, output_ids in zip(model_inputs.input_ids, generated_ids)\n",
    "]\n",
    "response = tokenizer.batch_decode(generated_ids, skip_special_tokens=True)[0]\n",
    "print(response)"
   ]
  },
  {
   "cell_type": "code",
   "execution_count": null,
   "metadata": {},
   "outputs": [],
   "source": [
    "#false\n",
    "tensor(0.5568)\n",
    "tensor(-0.9571)\n",
    "tensor(-0.1110)\n",
    "tensor(-0.0090)\n",
    "tensor(-14.5962)\n",
    "#true-14.5962\n",
    "tensor(0.3529)\n",
    "tensor(-0.7512)\n",
    "tensor(-0.0089)\n",
    "tensor(0.0538)\n",
    "tensor(-14.5962)"
   ]
  },
  {
   "cell_type": "code",
   "execution_count": 5,
   "metadata": {},
   "outputs": [
    {
     "data": {
      "text/plain": [
       "Qwen2ForCausalLM(\n",
       "  (model): Qwen2Model(\n",
       "    (embed_tokens): Embedding(151936, 1024)\n",
       "    (layers): ModuleList(\n",
       "      (0-23): 24 x Qwen2DecoderLayer(\n",
       "        (self_attn): Qwen2SdpaAttention(\n",
       "          (q_proj): Linear(in_features=1024, out_features=1024, bias=True)\n",
       "          (k_proj): Linear(in_features=1024, out_features=1024, bias=True)\n",
       "          (v_proj): Linear(in_features=1024, out_features=1024, bias=True)\n",
       "          (o_proj): Linear(in_features=1024, out_features=1024, bias=False)\n",
       "          (rotary_emb): Qwen2RotaryEmbedding()\n",
       "        )\n",
       "        (mlp): Qwen2MLP(\n",
       "          (gate_proj): Linear(in_features=1024, out_features=2816, bias=False)\n",
       "          (up_proj): Linear(in_features=1024, out_features=2816, bias=False)\n",
       "          (down_proj): Linear(in_features=2816, out_features=1024, bias=False)\n",
       "          (act_fn): SiLU()\n",
       "        )\n",
       "        (input_layernorm): Qwen2RMSNorm()\n",
       "        (post_attention_layernorm): Qwen2RMSNorm()\n",
       "      )\n",
       "    )\n",
       "    (norm): Qwen2RMSNorm()\n",
       "  )\n",
       "  (lm_head): Linear(in_features=1024, out_features=151936, bias=False)\n",
       ")"
      ]
     },
     "execution_count": 5,
     "metadata": {},
     "output_type": "execute_result"
    }
   ],
   "source": [
    "model"
   ]
  },
  {
   "cell_type": "code",
   "execution_count": 44,
   "metadata": {},
   "outputs": [],
   "source": [
    "#308 12\n",
    "#773 12\n",
    "#875 15\n",
    "# 4  12\n",
    "#543 12\n",
    "\n",
    "#create a hook that will modify the value of a neuron in the layer 14\n",
    "def hook_fn1(module, input, output):\n",
    "    print(output[0][0][-1][308])\n",
    "    #output[0][0][-1][308]=0\n",
    "    print(output[0][0][-1][773])\n",
    "    #output[0][0][-1][773]=0\n",
    "    print(output[0][0][-1][4])\n",
    "    #output[0][0][-1][4]=-0\n",
    "    print(output[0][0][-1][543])\n",
    "    #output[0][0][-1][543]=1\n",
    "    return output\n",
    "\n",
    "def hook_fn2(module, input, output):\n",
    "    print(output[0][0][0][111])\n",
    "    print(output[0][0][0][1020])\n",
    "    #output[0][0][0][875]=-14.5962\n",
    "    return output\n",
    "    \n",
    "def hook_fn3(module, input, output):\n",
    "    print(output[0][0][0][7])\n",
    "    #output[0][0][0][7]=0\n",
    "    print(output[0][0][0][7])\n",
    "    return output\n",
    "\n",
    "def hook_fn4(module, input, output):\n",
    "    print(output[0][0][0][7])\n",
    "    #output[0][0][0][7]=0\n",
    "    #output[0][0][0][774]=-0.2\n",
    "    print(output[0][0][0][774])\n",
    "    return output\n",
    "\n",
    "def hook_fn5(module, input, output):\n",
    "    print(output[0][0][0][7])\n",
    "    #output[0][0][0][7]=0\n",
    "    #output[0][0][0][774]=-0.2\n",
    "    print(output[0][0][0][898])\n",
    "    return output\n",
    "    \n",
    "#register the hook\n",
    "hook1 = model.model.layers[12].register_forward_hook(hook_fn1)\n",
    "hook2 = model.model.layers[15].register_forward_hook(hook_fn2)\n",
    "hook3 = model.model.layers[7].register_forward_hook(hook_fn3)\n",
    "hook4 = model.model.layers[10].register_forward_hook(hook_fn4)\n",
    "hook5 = model.model.layers[22].register_forward_hook(hook_fn5)"
   ]
  },
  {
   "cell_type": "code",
   "execution_count": 50,
   "metadata": {},
   "outputs": [],
   "source": [
    "hook1.remove()\n",
    "hook2.remove()\n",
    "hook3.remove()\n",
    "hook4.remove()\n",
    "hook5.remove()"
   ]
  }
 ],
 "metadata": {
  "kernelspec": {
   "display_name": ".venv",
   "language": "python",
   "name": "python3"
  },
  "language_info": {
   "codemirror_mode": {
    "name": "ipython",
    "version": 3
   },
   "file_extension": ".py",
   "mimetype": "text/x-python",
   "name": "python",
   "nbconvert_exporter": "python",
   "pygments_lexer": "ipython3",
   "version": "3.10.12"
  }
 },
 "nbformat": 4,
 "nbformat_minor": 2
}
