{
 "cells": [
  {
   "cell_type": "code",
   "execution_count": 40,
   "metadata": {},
   "outputs": [
    {
     "name": "stderr",
     "output_type": "stream",
     "text": [
      "`low_cpu_mem_usage` was None, now set to True since model is quantized.\n"
     ]
    },
    {
     "name": "stdout",
     "output_type": "stream",
     "text": [
      "The autoreload extension is already loaded. To reload it, use:\n",
      "  %reload_ext autoreload\n"
     ]
    }
   ],
   "source": [
    "from transformers import AutoTokenizer, AutoModelForCausalLM\n",
    "import torch\n",
    "tokenizer = AutoTokenizer.from_pretrained(\"ISTA-DASLab/Llama-2-7b-AQLM-2Bit-2x8-hf\")\n",
    "model = AutoModelForCausalLM.from_pretrained(\"ISTA-DASLab/Llama-2-7b-AQLM-2Bit-2x8-hf\")\n",
    "%load_ext autoreload\n",
    "%autoreload 2"
   ]
  },
  {
   "cell_type": "code",
   "execution_count": 41,
   "metadata": {},
   "outputs": [
    {
     "name": "stdout",
     "output_type": "stream",
     "text": [
      "LlamaForCausalLM(\n",
      "  (model): LlamaModel(\n",
      "    (embed_tokens): Embedding(32000, 4096)\n",
      "    (layers): ModuleList(\n",
      "      (0-31): 32 x LlamaDecoderLayer(\n",
      "        (self_attn): LlamaSdpaAttention(\n",
      "          (q_proj): QuantizedLinear()\n",
      "          (k_proj): QuantizedLinear()\n",
      "          (v_proj): QuantizedLinear()\n",
      "          (o_proj): QuantizedLinear()\n",
      "          (rotary_emb): LlamaRotaryEmbedding()\n",
      "        )\n",
      "        (mlp): LlamaMLP(\n",
      "          (gate_proj): QuantizedLinear()\n",
      "          (up_proj): QuantizedLinear()\n",
      "          (down_proj): QuantizedLinear()\n",
      "          (act_fn): SiLU()\n",
      "        )\n",
      "        (input_layernorm): LlamaRMSNorm()\n",
      "        (post_attention_layernorm): LlamaRMSNorm()\n",
      "      )\n",
      "    )\n",
      "    (norm): LlamaRMSNorm()\n",
      "  )\n",
      "  (lm_head): Linear(in_features=4096, out_features=32000, bias=False)\n",
      ")\n"
     ]
    }
   ],
   "source": [
    "print(model)"
   ]
  },
  {
   "cell_type": "code",
   "execution_count": 42,
   "metadata": {},
   "outputs": [],
   "source": [
    "activations = {}\n",
    "def capture_output(module, input, output):\n",
    "    activations['layer_13_output'] = output[0].detach()\n",
    "    \n",
    "hook = model.model.layers[13].register_forward_hook(capture_output)"
   ]
  },
  {
   "cell_type": "code",
   "execution_count": 4,
   "metadata": {},
   "outputs": [],
   "source": [
    "input_text = \"paris is in france\"\n",
    "input_token = tokenizer.encode_plus(input_text, return_tensors=\"pt\")\n",
    "\n",
    "input_ids = input_token[\"input_ids\"]\n",
    "mask = input_token[\"attention_mask\"]"
   ]
  },
  {
   "cell_type": "code",
   "execution_count": 5,
   "metadata": {},
   "outputs": [],
   "source": [
    "with torch.no_grad():\n",
    "    output = model(input_ids=input_ids, attention_mask=mask)\n",
    "    \n",
    "layer_13_output = activations['layer_13_output']\n",
    "hook.remove()"
   ]
  },
  {
   "cell_type": "code",
   "execution_count": 6,
   "metadata": {},
   "outputs": [
    {
     "data": {
      "text/plain": [
       "(torch.Size([1, 7, 4096]),\n",
       " tensor([[   1,  610,  275,  338,  297, 2524,  346]]))"
      ]
     },
     "execution_count": 6,
     "metadata": {},
     "output_type": "execute_result"
    }
   ],
   "source": [
    "layer_13_output.shape , input_ids"
   ]
  },
  {
   "cell_type": "markdown",
   "metadata": {},
   "source": [
    "- dimension 0 : taille du batch\n",
    "- dimension 1 : taille de la séquence\n",
    "- dimension 2 : taille de la représentation\n",
    "\n",
    "On aura donc des tailles variables de sortie en fonction de la taille de la séquence d'entrée. \n",
    "\n",
    "Comment faire pour l'utiliser pour la classification ?\n",
    "\n",
    "- utiliser le token `[CLS]` (modéle basé sur bert) qui est le premier token de la séquence (espece de représentation de la séquence entière) nous on est sur sententpiece `<s>` pas le meme role mais peut etre qu'on peut l'utiliser de la meme facon\n",
    "- average pooling : moyenne des représentations des tokens de la séquence\n",
    "- max pooling : max des représentations des tokens de la séquence\n",
    "- system d'attention : on va donner un poids à chaque token de la séquence et on va faire une somme pondérée des représentations des tokens"
   ]
  },
  {
   "cell_type": "code",
   "execution_count": 7,
   "metadata": {},
   "outputs": [
    {
     "name": "stdout",
     "output_type": "stream",
     "text": [
      "Tokens encodés: {'input_ids': tensor([[    1,  1222,   331,   552,   316, 19696,   371]]), 'attention_mask': tensor([[1, 1, 1, 1, 1, 1, 1]])}\n"
     ]
    },
    {
     "data": {
      "text/plain": [
       "'<s> Exemple de texte'"
      ]
     },
     "execution_count": 7,
     "metadata": {},
     "output_type": "execute_result"
    }
   ],
   "source": [
    "encoded_input = tokenizer(\"Exemple de texte\", return_tensors=\"pt\")\n",
    "print(\"Tokens encodés:\", encoded_input)\n",
    "\n",
    "tokenizer.decode(encoded_input[\"input_ids\"].tolist()[0])"
   ]
  },
  {
   "cell_type": "code",
   "execution_count": 37,
   "metadata": {},
   "outputs": [],
   "source": [
    "from attention import AutoAttentionFixeOutput\n",
    "\n",
    "attention = AutoAttentionFixeOutput()\n",
    "\n",
    "attention_output = attention.forward(layer_13_output)"
   ]
  },
  {
   "cell_type": "code",
   "execution_count": 38,
   "metadata": {},
   "outputs": [
    {
     "data": {
      "text/plain": [
       "torch.Size([2])"
      ]
     },
     "execution_count": 38,
     "metadata": {},
     "output_type": "execute_result"
    }
   ],
   "source": [
    "attention_output.shape"
   ]
  },
  {
   "cell_type": "markdown",
   "metadata": {},
   "source": [
    "## Creating the dataset of weights"
   ]
  },
  {
   "cell_type": "code",
   "execution_count": 39,
   "metadata": {},
   "outputs": [
    {
     "data": {
      "text/html": [
       "<div>\n",
       "<style scoped>\n",
       "    .dataframe tbody tr th:only-of-type {\n",
       "        vertical-align: middle;\n",
       "    }\n",
       "\n",
       "    .dataframe tbody tr th {\n",
       "        vertical-align: top;\n",
       "    }\n",
       "\n",
       "    .dataframe thead th {\n",
       "        text-align: right;\n",
       "    }\n",
       "</style>\n",
       "<table border=\"1\" class=\"dataframe\">\n",
       "  <thead>\n",
       "    <tr style=\"text-align: right;\">\n",
       "      <th></th>\n",
       "      <th>statement</th>\n",
       "      <th>label</th>\n",
       "    </tr>\n",
       "  </thead>\n",
       "  <tbody>\n",
       "    <tr>\n",
       "      <th>0</th>\n",
       "      <td>The planet Uranus is tilted on its side.</td>\n",
       "      <td>1</td>\n",
       "    </tr>\n",
       "    <tr>\n",
       "      <th>1</th>\n",
       "      <td>Sharks are sea creatures that have a reputatio...</td>\n",
       "      <td>1</td>\n",
       "    </tr>\n",
       "    <tr>\n",
       "      <th>2</th>\n",
       "      <td>An adult human has 32 teeth.</td>\n",
       "      <td>1</td>\n",
       "    </tr>\n",
       "    <tr>\n",
       "      <th>3</th>\n",
       "      <td>The smallest continent in the world is Australia.</td>\n",
       "      <td>1</td>\n",
       "    </tr>\n",
       "    <tr>\n",
       "      <th>4</th>\n",
       "      <td>The Amazon River is the largest river in the w...</td>\n",
       "      <td>1</td>\n",
       "    </tr>\n",
       "  </tbody>\n",
       "</table>\n",
       "</div>"
      ],
      "text/plain": [
       "                                           statement  label\n",
       "0           The planet Uranus is tilted on its side.      1\n",
       "1  Sharks are sea creatures that have a reputatio...      1\n",
       "2                       An adult human has 32 teeth.      1\n",
       "3  The smallest continent in the world is Australia.      1\n",
       "4  The Amazon River is the largest river in the w...      1"
      ]
     },
     "execution_count": 39,
     "metadata": {},
     "output_type": "execute_result"
    }
   ],
   "source": [
    "import pandas as pd\n",
    "raw_data = pd.read_csv(\"data/publicDataset/facts_true_false.csv\")\n",
    "raw_data.head() "
   ]
  },
  {
   "cell_type": "code",
   "execution_count": null,
   "metadata": {},
   "outputs": [],
   "source": [
    "activations = {}\n",
    "class StopForwardException(Exception):\n",
    "    pass\n",
    "\n",
    "def capture_output(module, input, output):\n",
    "    activations['layer_13_output'] = output[0].detach()\n",
    "    raise StopForwardException()\n",
    "    \n",
    "    \n",
    "hook = model.model.layers[13].register_forward_hook(capture_output)\n",
    "for i in range(51,raw_data.shape[0]) :\n",
    "    try :\n",
    "        statement = raw_data.iloc[i,0]\n",
    "        label = raw_data.iloc[i,1]\n",
    "        \n",
    "        input_token = tokenizer.encode_plus(input_text, return_tensors=\"pt\")\n",
    "        input_ids = input_token[\"input_ids\"]\n",
    "        mask = input_token[\"attention_mask\"]\n",
    "        \n",
    "        with torch.no_grad():\n",
    "            output = model(input_ids=input_ids, attention_mask=mask)\n",
    "    except StopForwardException:\n",
    "        pass\n",
    "    \n",
    "    layer_13_output = activations['layer_13_output'].squeeze(0)\n",
    "    layer_13_output = layer_13_output.numpy()\n",
    "    layer_13_output = pd.DataFrame(layer_13_output)\n",
    "    layer_13_output[\"label\"] = label\n",
    "    layer_13_output[\"object_number\"]=i\n",
    "    \n",
    "    layer_13_output.to_csv(\"data/layer_13_output.csv\", mode='a', header=False, index=False)\n",
    "    print(f\"Line {i} done\")\n",
    "    "
   ]
  },
  {
   "cell_type": "code",
   "execution_count": 154,
   "metadata": {},
   "outputs": [],
   "source": [
    "df = pd.read_csv(\"data/layer_13_output.csv\", header=None)"
   ]
  },
  {
   "cell_type": "code",
   "execution_count": 155,
   "metadata": {},
   "outputs": [
    {
     "data": {
      "text/plain": [
       "(357, 4098)"
      ]
     },
     "execution_count": 155,
     "metadata": {},
     "output_type": "execute_result"
    }
   ],
   "source": [
    "df.shape"
   ]
  },
  {
   "cell_type": "code",
   "execution_count": 156,
   "metadata": {},
   "outputs": [],
   "source": [
    "#calculate mean of each column group by the last column\n",
    "\n",
    "#drop duplicates in the last column and keep the last one\n",
    "df = df.drop_duplicates(subset=df.columns[-1], keep=\"last\").reset_index(drop=True)\n"
   ]
  },
  {
   "cell_type": "code",
   "execution_count": 157,
   "metadata": {},
   "outputs": [],
   "source": [
    "features = df[df.columns[:-2]]\n",
    "labels = df[df.columns[-2]]"
   ]
  },
  {
   "cell_type": "code",
   "execution_count": 158,
   "metadata": {},
   "outputs": [
    {
     "data": {
      "text/plain": [
       "((51, 4096), (51,))"
      ]
     },
     "execution_count": 158,
     "metadata": {},
     "output_type": "execute_result"
    }
   ],
   "source": [
    "features.shape, labels.shape"
   ]
  },
  {
   "cell_type": "code",
   "execution_count": 159,
   "metadata": {},
   "outputs": [],
   "source": [
    "from sklearn.decomposition import PCA\n",
    "pca = PCA(n_components=2)\n",
    "pca_result = pca.fit_transform(features)"
   ]
  },
  {
   "cell_type": "code",
   "execution_count": 160,
   "metadata": {},
   "outputs": [],
   "source": [
    "#concatenate df[df.columns[-1]] and pca_result\n",
    "pca_result = pd.DataFrame(pca_result, columns=[\"pca1\", \"pca2\"])\n",
    "pca_result[\"label\"] = labels"
   ]
  },
  {
   "cell_type": "code",
   "execution_count": 161,
   "metadata": {},
   "outputs": [
    {
     "data": {
      "text/plain": [
       "(-50.0, 30.0)"
      ]
     },
     "execution_count": 161,
     "metadata": {},
     "output_type": "execute_result"
    },
    {
     "data": {
      "image/png": "[encoded data removed]",
      "text/plain": [
       "<Figure size 640x480 with 1 Axes>"
      ]
     },
     "metadata": {},
     "output_type": "display_data"
    }
   ],
   "source": [
    "#plot the pca_result with the label as color\n",
    "import seaborn as sns\n",
    "import matplotlib.pyplot as plt\n",
    "plt.figure()\n",
    "sns.scatterplot(\n",
    "    x=\"pca1\", y=\"pca2\",\n",
    "    hue=\"label\",\n",
    "    palette=sns.color_palette(\"deep\", 2),\n",
    "    data=pca_result,\n",
    "    legend=\"full\",\n",
    ")\n",
    "plt.ylim(-50, 30)"
   ]
  }
 ],
 "metadata": {
  "kernelspec": {
   "display_name": ".venv",
   "language": "python",
   "name": "python3"
  },
  "language_info": {
   "codemirror_mode": {
    "name": "ipython",
    "version": 3
   },
   "file_extension": ".py",
   "mimetype": "text/x-python",
   "name": "python",
   "nbconvert_exporter": "python",
   "pygments_lexer": "ipython3",
   "version": "3.10.12"
  }
 },
 "nbformat": 4,
 "nbformat_minor": 2
}
